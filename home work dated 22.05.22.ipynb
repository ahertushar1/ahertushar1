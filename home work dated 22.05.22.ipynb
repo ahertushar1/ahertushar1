{
 "cells": [
  {
   "cell_type": "code",
   "execution_count": 1,
   "id": "ae2a51dd",
   "metadata": {},
   "outputs": [],
   "source": [
    "#Questions \n",
    "\n",
    "#l = [3,4,5,6,7 , [23,456,67,8,78,78] , [345,56,87,8,98,9] , (234,6657,6) , {\"key1\" :\"sudh\" , 234:[23,45,656]}]\n",
    "#1 . Try to reverse a list \n",
    "#2. try to access 234 out of this list \n",
    "#3 . try to access 456 \n",
    "#4 . Try to extract only a list collection form list l \n",
    "#5 . Try to extract \"sudh\"\n",
    "#6 . Try to list all the key in dict element avaible in list \n",
    "#7 . Try to extract all the value element form dict available in list "
   ]
  },
  {
   "cell_type": "code",
   "execution_count": 2,
   "id": "9dfcb65b",
   "metadata": {},
   "outputs": [],
   "source": [
    "#1 . Try to reverse a list "
   ]
  },
  {
   "cell_type": "code",
   "execution_count": 7,
   "id": "0e0dfd20",
   "metadata": {},
   "outputs": [],
   "source": [
    "l = [3,4,5,6,7 , [23,456,67,8,78,78] , [345,56,87,8,98,9] , (234,6657,6) , {\"key1\" :\"sudh\" , 234:[23,45,656]}]"
   ]
  },
  {
   "cell_type": "code",
   "execution_count": 8,
   "id": "d5fb840b",
   "metadata": {},
   "outputs": [
    {
     "data": {
      "text/plain": [
       "[{'key1': 'sudh', 234: [23, 45, 656]},\n",
       " (234, 6657, 6),\n",
       " [345, 56, 87, 8, 98, 9],\n",
       " [23, 456, 67, 8, 78, 78],\n",
       " 7,\n",
       " 6,\n",
       " 5,\n",
       " 4,\n",
       " 3]"
      ]
     },
     "execution_count": 8,
     "metadata": {},
     "output_type": "execute_result"
    }
   ],
   "source": [
    "l[::-1]"
   ]
  },
  {
   "cell_type": "code",
   "execution_count": 9,
   "id": "598cffbc",
   "metadata": {},
   "outputs": [],
   "source": [
    "#2. try to access 234 out of this list "
   ]
  },
  {
   "cell_type": "code",
   "execution_count": 10,
   "id": "5f733b2c",
   "metadata": {},
   "outputs": [],
   "source": [
    "l = [3,4,5,6,7 , [23,456,67,8,78,78] , [345,56,87,8,98,9] , (234,6657,6) , {\"key1\" :\"sudh\" , 234:[23,45,656]}]"
   ]
  },
  {
   "cell_type": "code",
   "execution_count": 11,
   "id": "8e8e4bc5",
   "metadata": {},
   "outputs": [
    {
     "data": {
      "text/plain": [
       "((234, 6657, 6), {'key1': 'sudh', 234: [23, 45, 656]})"
      ]
     },
     "execution_count": 11,
     "metadata": {},
     "output_type": "execute_result"
    }
   ],
   "source": [
    "l[7],l[8]"
   ]
  },
  {
   "cell_type": "code",
   "execution_count": 12,
   "id": "1ab34dfe",
   "metadata": {},
   "outputs": [
    {
     "data": {
      "text/plain": [
       "234"
      ]
     },
     "execution_count": 12,
     "metadata": {},
     "output_type": "execute_result"
    }
   ],
   "source": [
    "l[7][0]"
   ]
  },
  {
   "cell_type": "code",
   "execution_count": 16,
   "id": "822b8811",
   "metadata": {},
   "outputs": [
    {
     "data": {
      "text/plain": [
       "{'key1': 'sudh', 234: [23, 45, 656]}"
      ]
     },
     "execution_count": 16,
     "metadata": {},
     "output_type": "execute_result"
    }
   ],
   "source": [
    "l2=l[8]\n",
    "l2"
   ]
  },
  {
   "cell_type": "code",
   "execution_count": 30,
   "id": "d729b3bd",
   "metadata": {},
   "outputs": [
    {
     "data": {
      "text/plain": [
       "dict_keys(['key1', 234])"
      ]
     },
     "execution_count": 30,
     "metadata": {},
     "output_type": "execute_result"
    }
   ],
   "source": [
    "l2.keys()\n"
   ]
  },
  {
   "cell_type": "code",
   "execution_count": 19,
   "id": "8be3acb9",
   "metadata": {},
   "outputs": [],
   "source": [
    "#slicing not possible in dict, if any other option please help"
   ]
  },
  {
   "cell_type": "code",
   "execution_count": 20,
   "id": "2a59ce93",
   "metadata": {},
   "outputs": [],
   "source": [
    "#3 . try to access 456 "
   ]
  },
  {
   "cell_type": "code",
   "execution_count": 21,
   "id": "3d9baf40",
   "metadata": {},
   "outputs": [
    {
     "data": {
      "text/plain": [
       "456"
      ]
     },
     "execution_count": 21,
     "metadata": {},
     "output_type": "execute_result"
    }
   ],
   "source": [
    "l[5][1]"
   ]
  },
  {
   "cell_type": "code",
   "execution_count": 22,
   "id": "5a1e24ac",
   "metadata": {},
   "outputs": [],
   "source": [
    "#4 . Try to extract only a list collection form list l"
   ]
  },
  {
   "cell_type": "code",
   "execution_count": 31,
   "id": "a3e95ae7",
   "metadata": {},
   "outputs": [
    {
     "data": {
      "text/plain": [
       "([23, 456, 67, 8, 78, 78], [345, 56, 87, 8, 98, 9])"
      ]
     },
     "execution_count": 31,
     "metadata": {},
     "output_type": "execute_result"
    }
   ],
   "source": [
    "l[5],l[6]"
   ]
  },
  {
   "cell_type": "code",
   "execution_count": 32,
   "id": "423bf790",
   "metadata": {},
   "outputs": [],
   "source": [
    "#5 . Try to extract \"sudh\""
   ]
  },
  {
   "cell_type": "code",
   "execution_count": 35,
   "id": "5f3a833c",
   "metadata": {},
   "outputs": [
    {
     "data": {
      "text/plain": [
       "{'key1': 'sudh', 234: [23, 45, 656]}"
      ]
     },
     "execution_count": 35,
     "metadata": {},
     "output_type": "execute_result"
    }
   ],
   "source": [
    "l3=l[8]\n",
    "l3"
   ]
  },
  {
   "cell_type": "code",
   "execution_count": 40,
   "id": "60084c98",
   "metadata": {},
   "outputs": [
    {
     "data": {
      "text/plain": [
       "dict_values(['sudh', [23, 45, 656]])"
      ]
     },
     "execution_count": 40,
     "metadata": {},
     "output_type": "execute_result"
    }
   ],
   "source": [
    "l3.values()"
   ]
  },
  {
   "cell_type": "code",
   "execution_count": 41,
   "id": "831619fe",
   "metadata": {},
   "outputs": [],
   "source": [
    "#6 . Try to list all the key in dict element avaible in list "
   ]
  },
  {
   "cell_type": "code",
   "execution_count": 45,
   "id": "1eb6a142",
   "metadata": {},
   "outputs": [
    {
     "data": {
      "text/plain": [
       "{'key1': 'sudh', 234: [23, 45, 656]}"
      ]
     },
     "execution_count": 45,
     "metadata": {},
     "output_type": "execute_result"
    }
   ],
   "source": [
    "l4=l[8]\n",
    "l4"
   ]
  },
  {
   "cell_type": "code",
   "execution_count": 46,
   "id": "dfa0133d",
   "metadata": {},
   "outputs": [
    {
     "data": {
      "text/plain": [
       "dict_keys(['key1', 234])"
      ]
     },
     "execution_count": 46,
     "metadata": {},
     "output_type": "execute_result"
    }
   ],
   "source": [
    "l4.keys()"
   ]
  },
  {
   "cell_type": "code",
   "execution_count": 47,
   "id": "abfb5c8f",
   "metadata": {},
   "outputs": [],
   "source": [
    "#7 . Try to extract all the value element form dict available in list"
   ]
  },
  {
   "cell_type": "code",
   "execution_count": 48,
   "id": "a4722d16",
   "metadata": {},
   "outputs": [
    {
     "data": {
      "text/plain": [
       "dict_values(['sudh', [23, 45, 656]])"
      ]
     },
     "execution_count": 48,
     "metadata": {},
     "output_type": "execute_result"
    }
   ],
   "source": [
    "l5=l[8]\n",
    "l5.values()"
   ]
  },
  {
   "cell_type": "code",
   "execution_count": null,
   "id": "064e0093",
   "metadata": {},
   "outputs": [],
   "source": []
  }
 ],
 "metadata": {
  "kernelspec": {
   "display_name": "Python 3 (ipykernel)",
   "language": "python",
   "name": "python3"
  },
  "language_info": {
   "codemirror_mode": {
    "name": "ipython",
    "version": 3
   },
   "file_extension": ".py",
   "mimetype": "text/x-python",
   "name": "python",
   "nbconvert_exporter": "python",
   "pygments_lexer": "ipython3",
   "version": "3.9.7"
  }
 },
 "nbformat": 4,
 "nbformat_minor": 5
}
