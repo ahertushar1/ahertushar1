{
 "cells": [
  {
   "cell_type": "code",
   "execution_count": 1,
   "id": "b4648dd2",
   "metadata": {},
   "outputs": [
    {
     "data": {
      "text/plain": [
       "'this is My First Python programming class and i am learNING python string and its function'"
      ]
     },
     "execution_count": 1,
     "metadata": {},
     "output_type": "execute_result"
    }
   ],
   "source": [
    "s='this is My First Python programming class and i am learNING python string and its function'\n",
    "s"
   ]
  },
  {
   "cell_type": "code",
   "execution_count": null,
   "id": "f03b36ab",
   "metadata": {},
   "outputs": [],
   "source": [
    "#Anw of Q1"
   ]
  },
  {
   "cell_type": "code",
   "execution_count": 7,
   "id": "451da337",
   "metadata": {},
   "outputs": [
    {
     "data": {
      "text/plain": [
       "'h   r tnrrmglsnimeNGyosi dtfco'"
      ]
     },
     "execution_count": 7,
     "metadata": {},
     "output_type": "execute_result"
    }
   ],
   "source": [
    "s[1:300:3]"
   ]
  },
  {
   "cell_type": "code",
   "execution_count": 3,
   "id": "db9d060c",
   "metadata": {},
   "outputs": [
    {
     "data": {
      "text/plain": [
       "'this is My First Python programming class and i am learNING python string and its function'"
      ]
     },
     "execution_count": 3,
     "metadata": {},
     "output_type": "execute_result"
    }
   ],
   "source": [
    "s"
   ]
  },
  {
   "cell_type": "code",
   "execution_count": null,
   "id": "dc78afc4",
   "metadata": {},
   "outputs": [],
   "source": [
    "#Anw of Q2"
   ]
  },
  {
   "cell_type": "code",
   "execution_count": 4,
   "id": "2ba493fc",
   "metadata": {},
   "outputs": [
    {
     "data": {
      "text/plain": [
       "'noitcnuf sti dna gnirts nohtyp GNINrael ma i dna ssalc gnimmargorp nohtyP tsriF yM si siht'"
      ]
     },
     "execution_count": 4,
     "metadata": {},
     "output_type": "execute_result"
    }
   ],
   "source": [
    "s[::-1]"
   ]
  },
  {
   "cell_type": "code",
   "execution_count": null,
   "id": "7697eeff",
   "metadata": {},
   "outputs": [],
   "source": [
    "#Anw of Q3"
   ]
  },
  {
   "cell_type": "code",
   "execution_count": 11,
   "id": "aae5b0d7",
   "metadata": {},
   "outputs": [
    {
     "data": {
      "text/plain": [
       "'this is My First Python programming class and i am learNING python string and its function'"
      ]
     },
     "execution_count": 11,
     "metadata": {},
     "output_type": "execute_result"
    }
   ],
   "source": [
    "s"
   ]
  },
  {
   "cell_type": "code",
   "execution_count": 14,
   "id": "5d12d755",
   "metadata": {},
   "outputs": [
    {
     "data": {
      "text/plain": [
       "'THIS IS MY FIRST PYTHON PROGRAMMING CLASS AND I AM LEARNING PYTHON STRING AND ITS FUNCTION'"
      ]
     },
     "execution_count": 14,
     "metadata": {},
     "output_type": "execute_result"
    }
   ],
   "source": [
    "s.upper()"
   ]
  },
  {
   "cell_type": "code",
   "execution_count": 16,
   "id": "49a95c51",
   "metadata": {},
   "outputs": [
    {
     "data": {
      "text/plain": [
       "list['THIS IS MY FIRST PYTHON PROGRAMMING CLASS AND I AM LEARNING PYTHON STRING AND ITS FUNCTION']"
      ]
     },
     "execution_count": 16,
     "metadata": {},
     "output_type": "execute_result"
    }
   ],
   "source": [
    "list[s]"
   ]
  },
  {
   "cell_type": "code",
   "execution_count": 17,
   "id": "d57bf7f6",
   "metadata": {},
   "outputs": [
    {
     "data": {
      "text/plain": [
       "'THIS IS MY FIRST PYTHON PROGRAMMING CLASS AND I AM LEARNING PYTHON STRING AND ITS FUNCTION'"
      ]
     },
     "execution_count": 17,
     "metadata": {},
     "output_type": "execute_result"
    }
   ],
   "source": [
    "s"
   ]
  },
  {
   "cell_type": "code",
   "execution_count": 18,
   "id": "e85f8571",
   "metadata": {},
   "outputs": [
    {
     "data": {
      "text/plain": [
       "['THIS',\n",
       " 'IS',\n",
       " 'MY',\n",
       " 'FIRST',\n",
       " 'PYTHON',\n",
       " 'PROGRAMMING',\n",
       " 'CLASS',\n",
       " 'AND',\n",
       " 'I',\n",
       " 'AM',\n",
       " 'LEARNING',\n",
       " 'PYTHON',\n",
       " 'STRING',\n",
       " 'AND',\n",
       " 'ITS',\n",
       " 'FUNCTION']"
      ]
     },
     "execution_count": 18,
     "metadata": {},
     "output_type": "execute_result"
    }
   ],
   "source": [
    "s.split()"
   ]
  },
  {
   "cell_type": "code",
   "execution_count": 19,
   "id": "c2ee4d68",
   "metadata": {},
   "outputs": [],
   "source": [
    "#Anw of Q4"
   ]
  },
  {
   "cell_type": "code",
   "execution_count": 20,
   "id": "35fef47d",
   "metadata": {},
   "outputs": [
    {
     "data": {
      "text/plain": [
       "'THIS IS MY FIRST PYTHON PROGRAMMING CLASS AND I AM LEARNING PYTHON STRING AND ITS FUNCTION'"
      ]
     },
     "execution_count": 20,
     "metadata": {},
     "output_type": "execute_result"
    }
   ],
   "source": [
    "s"
   ]
  },
  {
   "cell_type": "code",
   "execution_count": 21,
   "id": "4eb10020",
   "metadata": {},
   "outputs": [
    {
     "data": {
      "text/plain": [
       "'this is my first python programming class and i am learning python string and its function'"
      ]
     },
     "execution_count": 21,
     "metadata": {},
     "output_type": "execute_result"
    }
   ],
   "source": [
    "s.lower()"
   ]
  },
  {
   "cell_type": "code",
   "execution_count": 22,
   "id": "8d04c24c",
   "metadata": {},
   "outputs": [],
   "source": [
    "#Anw of Q5"
   ]
  },
  {
   "cell_type": "code",
   "execution_count": 23,
   "id": "561faddd",
   "metadata": {},
   "outputs": [
    {
     "data": {
      "text/plain": [
       "'THIS IS MY FIRST PYTHON PROGRAMMING CLASS AND I AM LEARNING PYTHON STRING AND ITS FUNCTION'"
      ]
     },
     "execution_count": 23,
     "metadata": {},
     "output_type": "execute_result"
    }
   ],
   "source": [
    "s"
   ]
  },
  {
   "cell_type": "code",
   "execution_count": 25,
   "id": "55bf8d1b",
   "metadata": {},
   "outputs": [
    {
     "data": {
      "text/plain": [
       "'This is my first python programming class and i am learning python string and its function'"
      ]
     },
     "execution_count": 25,
     "metadata": {},
     "output_type": "execute_result"
    }
   ],
   "source": [
    "s.capitalize()"
   ]
  },
  {
   "cell_type": "code",
   "execution_count": 26,
   "id": "d9b0ef57",
   "metadata": {},
   "outputs": [],
   "source": [
    "#Anw of Q6"
   ]
  },
  {
   "cell_type": "code",
   "execution_count": 27,
   "id": "65bd39d3",
   "metadata": {},
   "outputs": [],
   "source": [
    "#isalnum means string will contain alphabet or number\n",
    "#isalpha mean string will contain only alphabets."
   ]
  },
  {
   "cell_type": "code",
   "execution_count": 28,
   "id": "c5a65e78",
   "metadata": {},
   "outputs": [],
   "source": [
    "#Anw of Q7"
   ]
  },
  {
   "cell_type": "code",
   "execution_count": 29,
   "id": "d0997ff7",
   "metadata": {},
   "outputs": [],
   "source": [
    "t='tushar\\t456\\t986'"
   ]
  },
  {
   "cell_type": "code",
   "execution_count": 30,
   "id": "1af04d20",
   "metadata": {},
   "outputs": [
    {
     "data": {
      "text/plain": [
       "'tushar  456     986'"
      ]
     },
     "execution_count": 30,
     "metadata": {},
     "output_type": "execute_result"
    }
   ],
   "source": [
    "t.expandtabs()"
   ]
  },
  {
   "cell_type": "code",
   "execution_count": 31,
   "id": "1f118568",
   "metadata": {},
   "outputs": [],
   "source": [
    "#Anw of Q8"
   ]
  },
  {
   "cell_type": "code",
   "execution_count": 32,
   "id": "249e3b2f",
   "metadata": {},
   "outputs": [],
   "source": [
    "u='     tushar     '"
   ]
  },
  {
   "cell_type": "code",
   "execution_count": 33,
   "id": "bdbb81d4",
   "metadata": {},
   "outputs": [
    {
     "data": {
      "text/plain": [
       "'tushar'"
      ]
     },
     "execution_count": 33,
     "metadata": {},
     "output_type": "execute_result"
    }
   ],
   "source": [
    "u.strip()"
   ]
  },
  {
   "cell_type": "code",
   "execution_count": 34,
   "id": "3425398b",
   "metadata": {},
   "outputs": [
    {
     "data": {
      "text/plain": [
       "'tushar     '"
      ]
     },
     "execution_count": 34,
     "metadata": {},
     "output_type": "execute_result"
    }
   ],
   "source": [
    "u.lstrip()"
   ]
  },
  {
   "cell_type": "code",
   "execution_count": 35,
   "id": "5f33cd3e",
   "metadata": {},
   "outputs": [
    {
     "data": {
      "text/plain": [
       "'     tushar'"
      ]
     },
     "execution_count": 35,
     "metadata": {},
     "output_type": "execute_result"
    }
   ],
   "source": [
    "u.rstrip()"
   ]
  },
  {
   "cell_type": "code",
   "execution_count": null,
   "id": "d240d8f4",
   "metadata": {},
   "outputs": [],
   "source": [
    "#Anw of Q9"
   ]
  },
  {
   "cell_type": "code",
   "execution_count": 38,
   "id": "b5018328",
   "metadata": {},
   "outputs": [],
   "source": [
    "T='tusharaher'"
   ]
  },
  {
   "cell_type": "code",
   "execution_count": 40,
   "id": "9e21d798",
   "metadata": {},
   "outputs": [
    {
     "data": {
      "text/plain": [
       "'tushwrwher'"
      ]
     },
     "execution_count": 40,
     "metadata": {},
     "output_type": "execute_result"
    }
   ],
   "source": [
    "T.replace('a','w')"
   ]
  },
  {
   "cell_type": "code",
   "execution_count": 41,
   "id": "35f1b5b6",
   "metadata": {},
   "outputs": [],
   "source": [
    "#Anw of Q10 string center"
   ]
  },
  {
   "cell_type": "code",
   "execution_count": 42,
   "id": "93f7f6ad",
   "metadata": {},
   "outputs": [],
   "source": [
    "#string center is defined as it will defined space as decided by user like 20 then total length\n",
    "#of string will be 20 and it will fill space with defined character"
   ]
  },
  {
   "cell_type": "code",
   "execution_count": 43,
   "id": "419bff19",
   "metadata": {},
   "outputs": [],
   "source": [
    "s='tushar'"
   ]
  },
  {
   "cell_type": "code",
   "execution_count": 44,
   "id": "a86e4e93",
   "metadata": {},
   "outputs": [
    {
     "data": {
      "text/plain": [
       "'#######tushar#######'"
      ]
     },
     "execution_count": 44,
     "metadata": {},
     "output_type": "execute_result"
    }
   ],
   "source": [
    "s.center(20,'#')"
   ]
  },
  {
   "cell_type": "code",
   "execution_count": 45,
   "id": "b7ce2d90",
   "metadata": {},
   "outputs": [],
   "source": [
    "#Anw of Q11\n",
    "#compiler is compile all proggramm in one set & shows muliple errors if available\n",
    "#interpretor is work on code in line by line manner ."
   ]
  },
  {
   "cell_type": "code",
   "execution_count": 46,
   "id": "b35a8c1c",
   "metadata": {},
   "outputs": [],
   "source": [
    "#Anw of Q12\n",
    "#python is interpreted langaue because code is executed line by line."
   ]
  },
  {
   "cell_type": "code",
   "execution_count": null,
   "id": "fdf7c19d",
   "metadata": {},
   "outputs": [],
   "source": [
    "#Anw of Q13\n",
    "python used in system programming,gaming application,data miming,image processing,robotics,automation"
   ]
  }
 ],
 "metadata": {
  "kernelspec": {
   "display_name": "Python 3 (ipykernel)",
   "language": "python",
   "name": "python3"
  },
  "language_info": {
   "codemirror_mode": {
    "name": "ipython",
    "version": 3
   },
   "file_extension": ".py",
   "mimetype": "text/x-python",
   "name": "python",
   "nbconvert_exporter": "python",
   "pygments_lexer": "ipython3",
   "version": "3.9.7"
  }
 },
 "nbformat": 4,
 "nbformat_minor": 5
}
